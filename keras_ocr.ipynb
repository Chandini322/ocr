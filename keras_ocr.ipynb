{
  "nbformat": 4,
  "nbformat_minor": 0,
  "metadata": {
    "colab": {
      "provenance": [],
      "collapsed_sections": []
    },
    "kernelspec": {
      "name": "python3",
      "display_name": "Python 3"
    },
    "language_info": {
      "name": "python"
    },
    "accelerator": "GPU"
  },
  "cells": [
    {
      "cell_type": "code",
      "execution_count": null,
      "metadata": {
        "id": "2kNNd8brP58V"
      },
      "outputs": [],
      "source": []
    },
    {
      "cell_type": "code",
      "source": [
        "from google.colab import drive\n",
        "drive.mount('/content/drive')"
      ],
      "metadata": {
        "colab": {
          "base_uri": "https://localhost:8080/"
        },
        "id": "Lv_w67vOQNT3",
        "outputId": "23a9f908-0e33-4862-82c3-56fe9014d65e"
      },
      "execution_count": null,
      "outputs": [
        {
          "output_type": "stream",
          "name": "stdout",
          "text": [
            "Drive already mounted at /content/drive; to attempt to forcibly remount, call drive.mount(\"/content/drive\", force_remount=True).\n"
          ]
        }
      ]
    },
    {
      "cell_type": "code",
      "source": [
        "!pip install pandas\n",
        "!pip install numpy\n",
        "!pip install -q keras-ocr\n",
        "!pip install matplotlib\n",
        "!pip install glob"
      ],
      "metadata": {
        "colab": {
          "base_uri": "https://localhost:8080/"
        },
        "id": "w7E_5J5TQaVa",
        "outputId": "020f07f6-145a-405a-dfbb-b9953593599c"
      },
      "execution_count": null,
      "outputs": [
        {
          "output_type": "stream",
          "name": "stdout",
          "text": [
            "Looking in indexes: https://pypi.org/simple, https://us-python.pkg.dev/colab-wheels/public/simple/\n",
            "Requirement already satisfied: pandas in /usr/local/lib/python3.7/dist-packages (1.3.5)\n",
            "Requirement already satisfied: numpy>=1.17.3 in /usr/local/lib/python3.7/dist-packages (from pandas) (1.21.6)\n",
            "Requirement already satisfied: pytz>=2017.3 in /usr/local/lib/python3.7/dist-packages (from pandas) (2022.4)\n",
            "Requirement already satisfied: python-dateutil>=2.7.3 in /usr/local/lib/python3.7/dist-packages (from pandas) (2.8.2)\n",
            "Requirement already satisfied: six>=1.5 in /usr/local/lib/python3.7/dist-packages (from python-dateutil>=2.7.3->pandas) (1.15.0)\n",
            "Looking in indexes: https://pypi.org/simple, https://us-python.pkg.dev/colab-wheels/public/simple/\n",
            "Requirement already satisfied: numpy in /usr/local/lib/python3.7/dist-packages (1.21.6)\n",
            "Looking in indexes: https://pypi.org/simple, https://us-python.pkg.dev/colab-wheels/public/simple/\n",
            "Requirement already satisfied: matplotlib in /usr/local/lib/python3.7/dist-packages (3.2.2)\n",
            "Requirement already satisfied: python-dateutil>=2.1 in /usr/local/lib/python3.7/dist-packages (from matplotlib) (2.8.2)\n",
            "Requirement already satisfied: pyparsing!=2.0.4,!=2.1.2,!=2.1.6,>=2.0.1 in /usr/local/lib/python3.7/dist-packages (from matplotlib) (3.0.9)\n",
            "Requirement already satisfied: numpy>=1.11 in /usr/local/lib/python3.7/dist-packages (from matplotlib) (1.21.6)\n",
            "Requirement already satisfied: kiwisolver>=1.0.1 in /usr/local/lib/python3.7/dist-packages (from matplotlib) (1.4.4)\n",
            "Requirement already satisfied: cycler>=0.10 in /usr/local/lib/python3.7/dist-packages (from matplotlib) (0.11.0)\n",
            "Requirement already satisfied: typing-extensions in /usr/local/lib/python3.7/dist-packages (from kiwisolver>=1.0.1->matplotlib) (4.1.1)\n",
            "Requirement already satisfied: six>=1.5 in /usr/local/lib/python3.7/dist-packages (from python-dateutil>=2.1->matplotlib) (1.15.0)\n",
            "Looking in indexes: https://pypi.org/simple, https://us-python.pkg.dev/colab-wheels/public/simple/\n",
            "\u001b[31mERROR: Could not find a version that satisfies the requirement glob (from versions: none)\u001b[0m\n",
            "\u001b[31mERROR: No matching distribution found for glob\u001b[0m\n"
          ]
        }
      ]
    },
    {
      "cell_type": "code",
      "source": [
        "import glob\n",
        "import keras_ocr\n",
        "import matplotlib.pyplot as plt"
      ],
      "metadata": {
        "id": "nYGkJvInQqxm"
      },
      "execution_count": null,
      "outputs": []
    },
    {
      "cell_type": "code",
      "source": [
        "pipeline = keras_ocr.pipeline.Pipeline()"
      ],
      "metadata": {
        "colab": {
          "base_uri": "https://localhost:8080/"
        },
        "id": "6cfBI9MYQ1Fw",
        "outputId": "f6850c83-a5e5-434e-f245-9df1fa0836e5"
      },
      "execution_count": null,
      "outputs": [
        {
          "output_type": "stream",
          "name": "stdout",
          "text": [
            "Looking for /root/.keras-ocr/craft_mlt_25k.h5\n",
            "Looking for /root/.keras-ocr/crnn_kurapan.h5\n"
          ]
        }
      ]
    },
    {
      "cell_type": "code",
      "source": [
        "files=(glob.glob(r\"/content/drive/MyDrive/new_gen_images_1/*.jpg\"))\n",
        "l=[]\n",
        "for i in range (len(files)):\n",
        "  h=(\"/content/drive/MyDrive/new_gen_images_1/\"+str(i)+\".jpg\")\n",
        "  l.append(h)\n",
        "  #l.append(file)\n",
        "print(l)\n",
        "images = [keras_ocr.tools.read(img) for img in l]\n",
        "\n"
      ],
      "metadata": {
        "colab": {
          "base_uri": "https://localhost:8080/"
        },
        "id": "alk80mOTQ4S1",
        "outputId": "cf2b35ce-b1ab-42ba-92e8-8b7263a95670"
      },
      "execution_count": null,
      "outputs": [
        {
          "output_type": "stream",
          "name": "stdout",
          "text": [
            "['/content/drive/MyDrive/new_gen_images_1/0.jpg', '/content/drive/MyDrive/new_gen_images_1/1.jpg', '/content/drive/MyDrive/new_gen_images_1/2.jpg', '/content/drive/MyDrive/new_gen_images_1/3.jpg', '/content/drive/MyDrive/new_gen_images_1/4.jpg', '/content/drive/MyDrive/new_gen_images_1/5.jpg', '/content/drive/MyDrive/new_gen_images_1/6.jpg', '/content/drive/MyDrive/new_gen_images_1/7.jpg', '/content/drive/MyDrive/new_gen_images_1/8.jpg', '/content/drive/MyDrive/new_gen_images_1/9.jpg', '/content/drive/MyDrive/new_gen_images_1/10.jpg', '/content/drive/MyDrive/new_gen_images_1/11.jpg', '/content/drive/MyDrive/new_gen_images_1/12.jpg', '/content/drive/MyDrive/new_gen_images_1/13.jpg', '/content/drive/MyDrive/new_gen_images_1/14.jpg', '/content/drive/MyDrive/new_gen_images_1/15.jpg', '/content/drive/MyDrive/new_gen_images_1/16.jpg', '/content/drive/MyDrive/new_gen_images_1/17.jpg', '/content/drive/MyDrive/new_gen_images_1/18.jpg', '/content/drive/MyDrive/new_gen_images_1/19.jpg', '/content/drive/MyDrive/new_gen_images_1/20.jpg', '/content/drive/MyDrive/new_gen_images_1/21.jpg', '/content/drive/MyDrive/new_gen_images_1/22.jpg', '/content/drive/MyDrive/new_gen_images_1/23.jpg', '/content/drive/MyDrive/new_gen_images_1/24.jpg', '/content/drive/MyDrive/new_gen_images_1/25.jpg', '/content/drive/MyDrive/new_gen_images_1/26.jpg', '/content/drive/MyDrive/new_gen_images_1/27.jpg', '/content/drive/MyDrive/new_gen_images_1/28.jpg', '/content/drive/MyDrive/new_gen_images_1/29.jpg', '/content/drive/MyDrive/new_gen_images_1/30.jpg', '/content/drive/MyDrive/new_gen_images_1/31.jpg', '/content/drive/MyDrive/new_gen_images_1/32.jpg', '/content/drive/MyDrive/new_gen_images_1/33.jpg', '/content/drive/MyDrive/new_gen_images_1/34.jpg', '/content/drive/MyDrive/new_gen_images_1/35.jpg', '/content/drive/MyDrive/new_gen_images_1/36.jpg', '/content/drive/MyDrive/new_gen_images_1/37.jpg', '/content/drive/MyDrive/new_gen_images_1/38.jpg', '/content/drive/MyDrive/new_gen_images_1/39.jpg', '/content/drive/MyDrive/new_gen_images_1/40.jpg', '/content/drive/MyDrive/new_gen_images_1/41.jpg', '/content/drive/MyDrive/new_gen_images_1/42.jpg', '/content/drive/MyDrive/new_gen_images_1/43.jpg', '/content/drive/MyDrive/new_gen_images_1/44.jpg', '/content/drive/MyDrive/new_gen_images_1/45.jpg', '/content/drive/MyDrive/new_gen_images_1/46.jpg', '/content/drive/MyDrive/new_gen_images_1/47.jpg', '/content/drive/MyDrive/new_gen_images_1/48.jpg', '/content/drive/MyDrive/new_gen_images_1/49.jpg', '/content/drive/MyDrive/new_gen_images_1/50.jpg', '/content/drive/MyDrive/new_gen_images_1/51.jpg', '/content/drive/MyDrive/new_gen_images_1/52.jpg', '/content/drive/MyDrive/new_gen_images_1/53.jpg', '/content/drive/MyDrive/new_gen_images_1/54.jpg', '/content/drive/MyDrive/new_gen_images_1/55.jpg', '/content/drive/MyDrive/new_gen_images_1/56.jpg', '/content/drive/MyDrive/new_gen_images_1/57.jpg', '/content/drive/MyDrive/new_gen_images_1/58.jpg', '/content/drive/MyDrive/new_gen_images_1/59.jpg', '/content/drive/MyDrive/new_gen_images_1/60.jpg', '/content/drive/MyDrive/new_gen_images_1/61.jpg', '/content/drive/MyDrive/new_gen_images_1/62.jpg', '/content/drive/MyDrive/new_gen_images_1/63.jpg', '/content/drive/MyDrive/new_gen_images_1/64.jpg', '/content/drive/MyDrive/new_gen_images_1/65.jpg', '/content/drive/MyDrive/new_gen_images_1/66.jpg', '/content/drive/MyDrive/new_gen_images_1/67.jpg', '/content/drive/MyDrive/new_gen_images_1/68.jpg', '/content/drive/MyDrive/new_gen_images_1/69.jpg', '/content/drive/MyDrive/new_gen_images_1/70.jpg', '/content/drive/MyDrive/new_gen_images_1/71.jpg', '/content/drive/MyDrive/new_gen_images_1/72.jpg', '/content/drive/MyDrive/new_gen_images_1/73.jpg', '/content/drive/MyDrive/new_gen_images_1/74.jpg', '/content/drive/MyDrive/new_gen_images_1/75.jpg', '/content/drive/MyDrive/new_gen_images_1/76.jpg', '/content/drive/MyDrive/new_gen_images_1/77.jpg', '/content/drive/MyDrive/new_gen_images_1/78.jpg', '/content/drive/MyDrive/new_gen_images_1/79.jpg', '/content/drive/MyDrive/new_gen_images_1/80.jpg', '/content/drive/MyDrive/new_gen_images_1/81.jpg', '/content/drive/MyDrive/new_gen_images_1/82.jpg', '/content/drive/MyDrive/new_gen_images_1/83.jpg', '/content/drive/MyDrive/new_gen_images_1/84.jpg', '/content/drive/MyDrive/new_gen_images_1/85.jpg', '/content/drive/MyDrive/new_gen_images_1/86.jpg', '/content/drive/MyDrive/new_gen_images_1/87.jpg', '/content/drive/MyDrive/new_gen_images_1/88.jpg', '/content/drive/MyDrive/new_gen_images_1/89.jpg', '/content/drive/MyDrive/new_gen_images_1/90.jpg', '/content/drive/MyDrive/new_gen_images_1/91.jpg', '/content/drive/MyDrive/new_gen_images_1/92.jpg', '/content/drive/MyDrive/new_gen_images_1/93.jpg', '/content/drive/MyDrive/new_gen_images_1/94.jpg', '/content/drive/MyDrive/new_gen_images_1/95.jpg', '/content/drive/MyDrive/new_gen_images_1/96.jpg', '/content/drive/MyDrive/new_gen_images_1/97.jpg', '/content/drive/MyDrive/new_gen_images_1/98.jpg', '/content/drive/MyDrive/new_gen_images_1/99.jpg', '/content/drive/MyDrive/new_gen_images_1/100.jpg', '/content/drive/MyDrive/new_gen_images_1/101.jpg', '/content/drive/MyDrive/new_gen_images_1/102.jpg', '/content/drive/MyDrive/new_gen_images_1/103.jpg', '/content/drive/MyDrive/new_gen_images_1/104.jpg', '/content/drive/MyDrive/new_gen_images_1/105.jpg', '/content/drive/MyDrive/new_gen_images_1/106.jpg', '/content/drive/MyDrive/new_gen_images_1/107.jpg', '/content/drive/MyDrive/new_gen_images_1/108.jpg', '/content/drive/MyDrive/new_gen_images_1/109.jpg', '/content/drive/MyDrive/new_gen_images_1/110.jpg', '/content/drive/MyDrive/new_gen_images_1/111.jpg', '/content/drive/MyDrive/new_gen_images_1/112.jpg', '/content/drive/MyDrive/new_gen_images_1/113.jpg', '/content/drive/MyDrive/new_gen_images_1/114.jpg', '/content/drive/MyDrive/new_gen_images_1/115.jpg', '/content/drive/MyDrive/new_gen_images_1/116.jpg', '/content/drive/MyDrive/new_gen_images_1/117.jpg', '/content/drive/MyDrive/new_gen_images_1/118.jpg', '/content/drive/MyDrive/new_gen_images_1/119.jpg', '/content/drive/MyDrive/new_gen_images_1/120.jpg', '/content/drive/MyDrive/new_gen_images_1/121.jpg', '/content/drive/MyDrive/new_gen_images_1/122.jpg', '/content/drive/MyDrive/new_gen_images_1/123.jpg', '/content/drive/MyDrive/new_gen_images_1/124.jpg', '/content/drive/MyDrive/new_gen_images_1/125.jpg', '/content/drive/MyDrive/new_gen_images_1/126.jpg', '/content/drive/MyDrive/new_gen_images_1/127.jpg', '/content/drive/MyDrive/new_gen_images_1/128.jpg', '/content/drive/MyDrive/new_gen_images_1/129.jpg', '/content/drive/MyDrive/new_gen_images_1/130.jpg', '/content/drive/MyDrive/new_gen_images_1/131.jpg', '/content/drive/MyDrive/new_gen_images_1/132.jpg', '/content/drive/MyDrive/new_gen_images_1/133.jpg', '/content/drive/MyDrive/new_gen_images_1/134.jpg', '/content/drive/MyDrive/new_gen_images_1/135.jpg', '/content/drive/MyDrive/new_gen_images_1/136.jpg', '/content/drive/MyDrive/new_gen_images_1/137.jpg', '/content/drive/MyDrive/new_gen_images_1/138.jpg', '/content/drive/MyDrive/new_gen_images_1/139.jpg', '/content/drive/MyDrive/new_gen_images_1/140.jpg', '/content/drive/MyDrive/new_gen_images_1/141.jpg', '/content/drive/MyDrive/new_gen_images_1/142.jpg', '/content/drive/MyDrive/new_gen_images_1/143.jpg', '/content/drive/MyDrive/new_gen_images_1/144.jpg', '/content/drive/MyDrive/new_gen_images_1/145.jpg', '/content/drive/MyDrive/new_gen_images_1/146.jpg', '/content/drive/MyDrive/new_gen_images_1/147.jpg', '/content/drive/MyDrive/new_gen_images_1/148.jpg', '/content/drive/MyDrive/new_gen_images_1/149.jpg', '/content/drive/MyDrive/new_gen_images_1/150.jpg', '/content/drive/MyDrive/new_gen_images_1/151.jpg', '/content/drive/MyDrive/new_gen_images_1/152.jpg', '/content/drive/MyDrive/new_gen_images_1/153.jpg', '/content/drive/MyDrive/new_gen_images_1/154.jpg', '/content/drive/MyDrive/new_gen_images_1/155.jpg', '/content/drive/MyDrive/new_gen_images_1/156.jpg', '/content/drive/MyDrive/new_gen_images_1/157.jpg', '/content/drive/MyDrive/new_gen_images_1/158.jpg', '/content/drive/MyDrive/new_gen_images_1/159.jpg', '/content/drive/MyDrive/new_gen_images_1/160.jpg', '/content/drive/MyDrive/new_gen_images_1/161.jpg', '/content/drive/MyDrive/new_gen_images_1/162.jpg', '/content/drive/MyDrive/new_gen_images_1/163.jpg', '/content/drive/MyDrive/new_gen_images_1/164.jpg', '/content/drive/MyDrive/new_gen_images_1/165.jpg', '/content/drive/MyDrive/new_gen_images_1/166.jpg', '/content/drive/MyDrive/new_gen_images_1/167.jpg', '/content/drive/MyDrive/new_gen_images_1/168.jpg', '/content/drive/MyDrive/new_gen_images_1/169.jpg', '/content/drive/MyDrive/new_gen_images_1/170.jpg', '/content/drive/MyDrive/new_gen_images_1/171.jpg', '/content/drive/MyDrive/new_gen_images_1/172.jpg', '/content/drive/MyDrive/new_gen_images_1/173.jpg', '/content/drive/MyDrive/new_gen_images_1/174.jpg', '/content/drive/MyDrive/new_gen_images_1/175.jpg', '/content/drive/MyDrive/new_gen_images_1/176.jpg', '/content/drive/MyDrive/new_gen_images_1/177.jpg', '/content/drive/MyDrive/new_gen_images_1/178.jpg', '/content/drive/MyDrive/new_gen_images_1/179.jpg', '/content/drive/MyDrive/new_gen_images_1/180.jpg', '/content/drive/MyDrive/new_gen_images_1/181.jpg', '/content/drive/MyDrive/new_gen_images_1/182.jpg', '/content/drive/MyDrive/new_gen_images_1/183.jpg', '/content/drive/MyDrive/new_gen_images_1/184.jpg', '/content/drive/MyDrive/new_gen_images_1/185.jpg', '/content/drive/MyDrive/new_gen_images_1/186.jpg', '/content/drive/MyDrive/new_gen_images_1/187.jpg', '/content/drive/MyDrive/new_gen_images_1/188.jpg', '/content/drive/MyDrive/new_gen_images_1/189.jpg', '/content/drive/MyDrive/new_gen_images_1/190.jpg', '/content/drive/MyDrive/new_gen_images_1/191.jpg', '/content/drive/MyDrive/new_gen_images_1/192.jpg', '/content/drive/MyDrive/new_gen_images_1/193.jpg', '/content/drive/MyDrive/new_gen_images_1/194.jpg', '/content/drive/MyDrive/new_gen_images_1/195.jpg', '/content/drive/MyDrive/new_gen_images_1/196.jpg', '/content/drive/MyDrive/new_gen_images_1/197.jpg', '/content/drive/MyDrive/new_gen_images_1/198.jpg', '/content/drive/MyDrive/new_gen_images_1/199.jpg', '/content/drive/MyDrive/new_gen_images_1/200.jpg', '/content/drive/MyDrive/new_gen_images_1/201.jpg', '/content/drive/MyDrive/new_gen_images_1/202.jpg', '/content/drive/MyDrive/new_gen_images_1/203.jpg', '/content/drive/MyDrive/new_gen_images_1/204.jpg', '/content/drive/MyDrive/new_gen_images_1/205.jpg', '/content/drive/MyDrive/new_gen_images_1/206.jpg', '/content/drive/MyDrive/new_gen_images_1/207.jpg', '/content/drive/MyDrive/new_gen_images_1/208.jpg', '/content/drive/MyDrive/new_gen_images_1/209.jpg', '/content/drive/MyDrive/new_gen_images_1/210.jpg', '/content/drive/MyDrive/new_gen_images_1/211.jpg', '/content/drive/MyDrive/new_gen_images_1/212.jpg', '/content/drive/MyDrive/new_gen_images_1/213.jpg', '/content/drive/MyDrive/new_gen_images_1/214.jpg', '/content/drive/MyDrive/new_gen_images_1/215.jpg', '/content/drive/MyDrive/new_gen_images_1/216.jpg', '/content/drive/MyDrive/new_gen_images_1/217.jpg', '/content/drive/MyDrive/new_gen_images_1/218.jpg', '/content/drive/MyDrive/new_gen_images_1/219.jpg', '/content/drive/MyDrive/new_gen_images_1/220.jpg', '/content/drive/MyDrive/new_gen_images_1/221.jpg', '/content/drive/MyDrive/new_gen_images_1/222.jpg', '/content/drive/MyDrive/new_gen_images_1/223.jpg', '/content/drive/MyDrive/new_gen_images_1/224.jpg', '/content/drive/MyDrive/new_gen_images_1/225.jpg', '/content/drive/MyDrive/new_gen_images_1/226.jpg', '/content/drive/MyDrive/new_gen_images_1/227.jpg', '/content/drive/MyDrive/new_gen_images_1/228.jpg', '/content/drive/MyDrive/new_gen_images_1/229.jpg', '/content/drive/MyDrive/new_gen_images_1/230.jpg', '/content/drive/MyDrive/new_gen_images_1/231.jpg', '/content/drive/MyDrive/new_gen_images_1/232.jpg', '/content/drive/MyDrive/new_gen_images_1/233.jpg', '/content/drive/MyDrive/new_gen_images_1/234.jpg', '/content/drive/MyDrive/new_gen_images_1/235.jpg', '/content/drive/MyDrive/new_gen_images_1/236.jpg', '/content/drive/MyDrive/new_gen_images_1/237.jpg', '/content/drive/MyDrive/new_gen_images_1/238.jpg', '/content/drive/MyDrive/new_gen_images_1/239.jpg', '/content/drive/MyDrive/new_gen_images_1/240.jpg', '/content/drive/MyDrive/new_gen_images_1/241.jpg', '/content/drive/MyDrive/new_gen_images_1/242.jpg', '/content/drive/MyDrive/new_gen_images_1/243.jpg', '/content/drive/MyDrive/new_gen_images_1/244.jpg', '/content/drive/MyDrive/new_gen_images_1/245.jpg', '/content/drive/MyDrive/new_gen_images_1/246.jpg', '/content/drive/MyDrive/new_gen_images_1/247.jpg', '/content/drive/MyDrive/new_gen_images_1/248.jpg', '/content/drive/MyDrive/new_gen_images_1/249.jpg', '/content/drive/MyDrive/new_gen_images_1/250.jpg', '/content/drive/MyDrive/new_gen_images_1/251.jpg', '/content/drive/MyDrive/new_gen_images_1/252.jpg', '/content/drive/MyDrive/new_gen_images_1/253.jpg', '/content/drive/MyDrive/new_gen_images_1/254.jpg', '/content/drive/MyDrive/new_gen_images_1/255.jpg', '/content/drive/MyDrive/new_gen_images_1/256.jpg', '/content/drive/MyDrive/new_gen_images_1/257.jpg', '/content/drive/MyDrive/new_gen_images_1/258.jpg', '/content/drive/MyDrive/new_gen_images_1/259.jpg', '/content/drive/MyDrive/new_gen_images_1/260.jpg', '/content/drive/MyDrive/new_gen_images_1/261.jpg', '/content/drive/MyDrive/new_gen_images_1/262.jpg', '/content/drive/MyDrive/new_gen_images_1/263.jpg', '/content/drive/MyDrive/new_gen_images_1/264.jpg', '/content/drive/MyDrive/new_gen_images_1/265.jpg', '/content/drive/MyDrive/new_gen_images_1/266.jpg', '/content/drive/MyDrive/new_gen_images_1/267.jpg', '/content/drive/MyDrive/new_gen_images_1/268.jpg', '/content/drive/MyDrive/new_gen_images_1/269.jpg', '/content/drive/MyDrive/new_gen_images_1/270.jpg', '/content/drive/MyDrive/new_gen_images_1/271.jpg', '/content/drive/MyDrive/new_gen_images_1/272.jpg', '/content/drive/MyDrive/new_gen_images_1/273.jpg', '/content/drive/MyDrive/new_gen_images_1/274.jpg', '/content/drive/MyDrive/new_gen_images_1/275.jpg', '/content/drive/MyDrive/new_gen_images_1/276.jpg', '/content/drive/MyDrive/new_gen_images_1/277.jpg', '/content/drive/MyDrive/new_gen_images_1/278.jpg', '/content/drive/MyDrive/new_gen_images_1/279.jpg', '/content/drive/MyDrive/new_gen_images_1/280.jpg', '/content/drive/MyDrive/new_gen_images_1/281.jpg', '/content/drive/MyDrive/new_gen_images_1/282.jpg', '/content/drive/MyDrive/new_gen_images_1/283.jpg', '/content/drive/MyDrive/new_gen_images_1/284.jpg', '/content/drive/MyDrive/new_gen_images_1/285.jpg', '/content/drive/MyDrive/new_gen_images_1/286.jpg', '/content/drive/MyDrive/new_gen_images_1/287.jpg', '/content/drive/MyDrive/new_gen_images_1/288.jpg', '/content/drive/MyDrive/new_gen_images_1/289.jpg', '/content/drive/MyDrive/new_gen_images_1/290.jpg', '/content/drive/MyDrive/new_gen_images_1/291.jpg', '/content/drive/MyDrive/new_gen_images_1/292.jpg', '/content/drive/MyDrive/new_gen_images_1/293.jpg', '/content/drive/MyDrive/new_gen_images_1/294.jpg', '/content/drive/MyDrive/new_gen_images_1/295.jpg', '/content/drive/MyDrive/new_gen_images_1/296.jpg', '/content/drive/MyDrive/new_gen_images_1/297.jpg', '/content/drive/MyDrive/new_gen_images_1/298.jpg', '/content/drive/MyDrive/new_gen_images_1/299.jpg']\n"
          ]
        }
      ]
    },
    {
      "cell_type": "code",
      "source": [
        "plt.figure(figsize = (10,20))\n",
        "plt.imshow(images[3])"
      ],
      "metadata": {
        "colab": {
          "base_uri": "https://localhost:8080/",
          "height": 138
        },
        "id": "eJcBtvMNSNwT",
        "outputId": "1fcef5a6-19a3-46eb-c945-a3aa6b3c121e"
      },
      "execution_count": null,
      "outputs": [
        {
          "output_type": "execute_result",
          "data": {
            "text/plain": [
              "<matplotlib.image.AxesImage at 0x7f2d1bd5e810>"
            ]
          },
          "metadata": {},
          "execution_count": 164
        },
        {
          "output_type": "display_data",
          "data": {
            "text/plain": [
              "<Figure size 720x1440 with 1 Axes>"
            ],
            "image/png": "[encoded data removed]"
          },
          "metadata": {
            "needs_background": "light"
          }
        }
      ]
    },
    {
      "cell_type": "code",
      "source": [
        "prediction_groups = pipeline.recognize(images)"
      ],
      "metadata": {
        "colab": {
          "base_uri": "https://localhost:8080/"
        },
        "id": "KKSQQAt4ST04",
        "outputId": "49be8a75-7942-47a3-97d2-88a1dd0f880a"
      },
      "execution_count": null,
      "outputs": [
        {
          "output_type": "stream",
          "name": "stdout",
          "text": [
            "10/10 [==============================] - 4s 348ms/step\n",
            "13/13 [==============================] - 3s 63ms/step\n"
          ]
        }
      ]
    },
    {
      "cell_type": "code",
      "source": [
        "\n",
        "pre=prediction_groups[14]\n",
        "temp = \"\"\n",
        "for i in pre:\n",
        "  temp += i[0]\n",
        "print(temp)\n",
        "\n",
        "# for text,box in pre:\n",
        "\n",
        "#     temp = \"\"\n",
        "#     for i in text:\n",
        "#       print(i)\n",
        "#       temp += i\n",
        "    \n",
        "#     l.append(temp)\n",
        "#     print(temp)\n"
      ],
      "metadata": {
        "colab": {
          "base_uri": "https://localhost:8080/"
        },
        "id": "9LLeDChylLIJ",
        "outputId": "f015d6f4-f0e6-4775-e5c3-990118ab236a"
      },
      "execution_count": null,
      "outputs": [
        {
          "output_type": "stream",
          "name": "stdout",
          "text": [
            "[('qurlhzwmofwin', array([[ 61.673237,  10.083229],\n",
            "       [335.79376 ,   5.800102],\n",
            "       [336.31216 ,  38.9795  ],\n",
            "       [ 62.19165 ,  43.262627]], dtype=float32)), ('xl', array([[-8.87869e-16,  1.00000e+01],\n",
            "       [ 4.20000e+01,  1.00000e+01],\n",
            "       [ 4.20000e+01,  3.90000e+01],\n",
            "       [ 0.00000e+00,  3.90000e+01]], dtype=float32))]\n",
            "qurlhzwmofwinxl\n"
          ]
        }
      ]
    },
    {
      "cell_type": "code",
      "source": [
        "o=[]\n",
        "for i in range(0,len(files),1):\n",
        "  pre=prediction_groups[i]\n",
        "  temp =\"\"\n",
        "  for i in pre:\n",
        "    temp += i[0]\n",
        "  o.append(temp)\n",
        "for i in range(len(o)):\n",
        "  print(o[i])\n",
        "#print(o)\n",
        "#print(o)\n",
        "#for i in range(len(o)):\n",
        "#  with open('/content/a.csv','a') as f:\n",
        "#        f.write(o[i])\n",
        "#        f.write(\"\\n\")\n",
        "    #o.append(text)"
      ],
      "metadata": {
        "colab": {
          "base_uri": "https://localhost:8080/"
        },
        "id": "X2n-Wk8NSX7b",
        "outputId": "02ae9f85-cf1d-45c5-9761-506926034a20"
      },
      "execution_count": null,
      "outputs": [
        {
          "output_type": "stream",
          "name": "stdout",
          "text": [
            "ogoqoklmz\n",
            "nbjwmaioacpiiez\n",
            "ugxovqse\n",
            "vlrubvibcpphds\n",
            "onotitrpvibgznmoc\n",
            "tehggjcv\n",
            "kgtayzsro\n",
            "asmlwdvvnj\n",
            "xrfgmrfijmvnod\n",
            "lkmkamnjiwmnnzi\n",
            "awsv\n",
            "giyla\n",
            "tgwarblo\n",
            "lxld\n",
            "qurlhzwmofwinxl\n",
            "aqpirrlfghrz\n",
            "jpccz\n",
            "ecimdsoelsi\n",
            "cnc\n",
            "ldxumvdrubuae\n",
            "qdlyrfbqotvwyif\n",
            "xobubclijogmgldd\n",
            "omuubuphhmg\n",
            "jliprhim\n",
            "rrlserrxl\n",
            "tysuszyaqicmnwc\n",
            "faennjq\n",
            "epqyvxtoneqmcot\n",
            "rwzbfrqw\n",
            "mdntlfogfzefsbmyhi\n",
            "sovmuvtinwlivi\n",
            "nuacziwptvtbw\n",
            "rybxkuxwz\n",
            "spsdkogghjp\n",
            "dgqa\n",
            "xpfwcvencezehceio\n",
            "zmlzpnbpd\n",
            "zhpwp\n",
            "wxnugqbprca\n",
            "rzxhmkprnq\n",
            "ahkomsnbfsc\n",
            "bexzfnnhu\n",
            "piggvk\n",
            "nrzetnp\n",
            "cuavrsghwt\n",
            "vcoawufsc\n",
            "lgcfmbfpgyro\n",
            "tzjognnicjzr\n",
            "eimgbptpwzeishk\n",
            "hffzkausveuypdv\n",
            "midepomuigha\n",
            "sblust\n",
            "rtejijoswyxnx\n",
            "ypukqvdgxzmrijs\n",
            "oczdeylcteplolan\n",
            "dwprwglbay\n",
            "ormuas\n",
            "tlycrvrgeksomhcph\n",
            "cidpsxrexqetridzo\n",
            "zqorrrloeiwomybih\n",
            "gwiuxfgxbtenb\n",
            "gxmowraaaass\n",
            "xpqfno\n",
            "fxeaoikgt\n",
            "irnghmdxengorprl\n",
            "rkyweixtcyvi\n",
            "qtcneeueazfhzohrli\n",
            "iugczsapkhpsfbcuv\n",
            "motdpxdnux\n",
            "inwmoefkxumlm\n",
            "gvuhsya\n",
            "bkzdbiepigz\n",
            "mmjcuucfsxveqfv\n",
            "jbzx\n",
            "nznhicrlighunzuoj\n",
            "yfmum\n",
            "bunesnsadxjruw\n",
            "sgfcz\n",
            "zzjisi\n",
            "hlztevjiyitg\n",
            "riomlyctrmrancing\n",
            "jjhrzsmewr\n",
            "jxnjbhdmkzsnzzp\n",
            "jfvq\n",
            "rhaophwk\n",
            "hmusgvrnizhezz\n",
            "humeedjd\n",
            "ybnrcbf\n",
            "puckgyo\n",
            "sagdjq\n",
            "egdfvenaajfja\n",
            "isqly\n",
            "ocibqhx\n",
            "ghptpclget\n",
            "knljgivo\n",
            "xehzhlasaehpt\n",
            "upwgf\n",
            "enyvtgzffw\n",
            "ndisgdyhucoxbo\n",
            "ygoaykfjfkr\n",
            "jbwjzfhivlh\n",
            "1cplhyrw\n",
            "elnihe\n",
            "owgcdsrq\n",
            "pgi\n",
            "hdynmbypvbss\n",
            "keqowoscs\n",
            "eipnpiaah\n",
            "rgjcwuglsjydr\n",
            "gbearehmfuovaz\n",
            "otbfwvtijbdhrzcvb\n",
            "yfaqriz\n",
            "jvjce\n",
            "sveqnlt\n",
            "cce\n",
            "ddtw\n",
            "tgneignnonbmbccn\n",
            "qdkjwwzll\n",
            "ssbrmp\n",
            "hesrcatosehmzk\n",
            "nrqrnhume\n",
            "ufljaxoegbwmw\n",
            "clajvlofifpiesh\n",
            "jmtikjppshhtecakm\n",
            "pilsht\n",
            "nwfzfgerckglmz\n",
            "jbhfapvllile\n",
            "nwixibgguxlg\n",
            "dchmicumlccvidox\n",
            "zcizmpeatsoz\n",
            "ieiscofbeqxrmjsn\n",
            "ybwz\n",
            "medwomipapyhzl\n",
            "qlzfjhajsidgiry\n",
            "jjpypfm\n",
            "tyrgrvwbaayiucv\n",
            "ljyoy\n",
            "xmpipbeqlt\n",
            "wsuy\n",
            "onzmujak\n",
            "njoxkbmdgewffi\n",
            "sudakhdwez\n",
            "khoiukxmiqvpz\n",
            "kgpovnldcfxuw\n",
            "mptg\n",
            "ijxpfxfunmsoz\n",
            "waxyhumzhemc\n",
            "labcaeawoyxd\n",
            "swkhdiepasmz\n",
            "fhveduyqitzaa\n",
            "lmmwxmulbva\n",
            "yoviretstncawyp\n",
            "vfvaisjuci\n",
            "shsknscjcrh\n",
            "pgyncy\n",
            "kbpzezb\n",
            "ojputeniqunkiveh\n",
            "mukbkusvgey\n",
            "aucxsxdxbshfiasoy\n",
            "txcemohraviks\n",
            "bjwejlpoznoegg\n",
            "offwiefo\n",
            "pre\n",
            "hwdctfender\n",
            "uarq\n",
            "rwdouteh\n",
            "mkugvhzefrp\n",
            "wfzfozulmatiegptsdz\n",
            "ehivtippympotzhs\n",
            "ldb\n",
            "bdxskucioici\n",
            "bluamnngr\n",
            "amstymsmmdlkkist\n",
            "jyusdqumzcadijlup\n",
            "gppaffrpzc\n",
            "ftbjyc\n",
            "gcxfhdfgc\n",
            "odxdisywlcagy\n",
            "fdtgiyw\n",
            "fdwdrn\n",
            "htmpefyxediwj\n",
            "bntvzueccldif\n",
            "eeujzwftmoshfijcpb\n",
            "ehkdgshpynilitac\n",
            "bwjcrxajugqdgxoe\n",
            "nafpsqhboitjahu\n",
            "wybgqldhw\n",
            "cquspkwiefrflpo\n",
            "xlessnxu\n",
            "gzmeh\n",
            "fpewlwyskcx\n",
            "gabddgpplge\n",
            "bnru\n",
            "epyahcgcq\n",
            "ofzgdzswuprudby\n",
            "xvhefzaperdghpc\n",
            "ujcdgpxrikiavp\n",
            "yliiiyg\n",
            "ycjegotpppe\n",
            "ljrwoieajjcdngm\n",
            "hfuxgghqp\n",
            "gcnumefevie\n",
            "pfgaspa\n",
            "ykkbprlamtxgub\n",
            "idctgjgji\n",
            "jpgvlzgnmzsrvnxw\n",
            "blkluffzxkizry\n",
            "fltimxiqobwzrfk\n",
            "kiznhhahkflpksle\n",
            "nbqtje\n",
            "kimfokhcfhcu\n",
            "howyr\n",
            "fqdxkitmbejdyi\n",
            "otigmyqitiotk\n",
            "lmdgvfuxacyhlsi\n",
            "xcasbwwykvegybhby\n",
            "cpeqftbhcfxuit\n",
            "olcyccilriz\n",
            "gseym\n",
            "cvyilalilgngsxtina\n",
            "uhjrhofyvatik\n",
            "tyicycguaa\n",
            "ucxrsyimblpiki\n",
            "fjwuzjevaylifbb\n",
            "cyrlomaelfwttwzi\n",
            "kedzdqd\n",
            "qwbeo\n",
            "uned\n",
            "ugpydnygptrdhhidd\n",
            "bjkenzcfdlhpu\n",
            "iuqpkwipfabit\n",
            "uoqdhuethprdr\n",
            "kuzrdwhwg\n",
            "sllojhysknypvned\n",
            "xenlptqtyk\n",
            "grtxn\n",
            "owgmwabewdlenbvb\n",
            "quaxkxaamh\n",
            "wowr\n",
            "aitpgkefphxppifxm\n",
            "hhev\n",
            "hoediwb\n",
            "jkznkohznok\n",
            "pqoodvozcmszmng\n",
            "ivwxucxxztfmv\n",
            "wvaees\n",
            "mavynhie\n",
            "aildybenbegoj\n",
            "gectondzohitoxal\n",
            "isbzqsoj\n",
            "blnnjjj\n",
            "uoqds\n",
            "yeozklde\n",
            "nairqbaa\n",
            "tyersgfbmuq\n",
            "osfkp\n",
            "tmqwcj\n",
            "gbuxoifijp\n",
            "ddowydhorwsbrhlb\n",
            "psalkk\n",
            "wxvagynftlye\n",
            "xztahonajow\n",
            "cverxc\n",
            "oysduwllacw\n",
            "cwdzejqetw\n",
            "qfhzs\n",
            "noqpenruwbktojigly\n",
            "bcrgigreukffgyyo\n",
            "okvoujvntaxxmutd\n",
            "pdvwfonbswxtnww\n",
            "xuwbqjizpodlajos\n",
            "rtexraapxv\n",
            "psarjdtpxipwf\n",
            "uvct\n",
            "wkkdcwmppewssiy\n",
            "xsncucucdqacagxk\n",
            "tdhr\n",
            "myijdtxpmk\n",
            "xkhqtlxkve\n",
            "mxgktyxfdwef\n",
            "qujvyz\n",
            "paphmgringeompqlmyj\n",
            "jubm\n",
            "mdfcfawexuvjq\n",
            "ozfasx\n",
            "illak\n",
            "lsyilum\n",
            "rxmn\n",
            "kopxw\n",
            "arrj\n",
            "urbml\n",
            "zylcuassbsrcryenh\n",
            "xswdiszihjtu\n",
            "inyvabqqvalyb\n",
            "hrmgquonah\n",
            "idcmmpuvgjcgij\n",
            "yulhlawffrio\n",
            "zqxed\n",
            "jqtfooopxo\n",
            "nmrrqsretwa\n"
          ]
        }
      ]
    },
    {
      "cell_type": "code",
      "source": [
        "import pandas as pd\n",
        "df = pd.read_csv('/content/drive/MyDrive/names.csv')"
      ],
      "metadata": {
        "id": "4hbIs4y2SpRj"
      },
      "execution_count": null,
      "outputs": []
    },
    {
      "cell_type": "code",
      "source": [
        "ground_truth= df['Name1'].tolist()"
      ],
      "metadata": {
        "id": "BGppip8ryESY"
      },
      "execution_count": null,
      "outputs": []
    },
    {
      "cell_type": "code",
      "source": [
        "print((ground_truth))\n",
        "length=len(ground_truth)"
      ],
      "metadata": {
        "colab": {
          "base_uri": "https://localhost:8080/"
        },
        "id": "zj6u6VsFyoTs",
        "outputId": "08bdad81-2135-4a15-a293-a41e004f959f"
      },
      "execution_count": null,
      "outputs": [
        {
          "output_type": "stream",
          "name": "stdout",
          "text": [
            "['OGOQOKLMZ', 'nbjwqmaioacpiiehzj', 'ugXovqSE', 'VLRUBVJBCPPXHDS ', 'bnotitrrpvbqzwmoc', 'TeHggjCv', 'KGTAYZSRO', 'asmlwdvvnj', 'XrFGMrFjjMVnoD', 'LKMKAMNJIWMNNZI', 'awsv', 'GiylA', 'TGWARBLO', 'lxld', 'XL QJrlHzWMOfWIn', 'AQPIRRLFGHRZ', 'jpccz', 'ecImdsoelsi', 'CNC  ', 'aeldxumvdru bu', 'yiF qdlyrFBqOtVw', 'XOBUBCLJOGMGLDD', 'omuubuphh mg', 'jLIPrHIM', 'RRLSE RRXL', 'tysuszyaqicmnwc', 'JqfaenN', 'EPQYVXTQNEQMCOT', 'rwzbfrqw', 'mdNtLfoqfZeFsBMyhj', 'SOVMUVTJNWLJVI', 'tbw nuacziwptv', 'rYBxKUxwZ', 'SPSDKOGGHJP', 'dgqa', 'xpfwCvEnceZehCEIO', 'ZMLZPNB PD', 'zhpwp', 'WxnJgQb PrCA', 'RZXHMKPRNQ', 'ahkqmsnbfsc', 'bExZFNnHu', 'PI GGVK', ' nrzetnp', 'cuAvRSGhwt', 'VCOAWUFSC ', 'yrlqcfmb ofpg', 'zR tzjognniCj', 'EIMGBPTPWZEISXHK', 'hffzkauwsveuypdvqv', 'midEpomUIqHA', 'SBLUST', 'yxnx rtejijosw', 'YPukQVDGxzMRjs', 'OCZDEYLCJEPLOWLAMC', 'dwprwglbay', 'ORmUaS', 'TLYCRVRGEKSOMHCPH', 'cidpsxrcxqetridzo', 'zQoRRRloEIWOMyBjh', 'GWIUXFGXBTFNB', 'qxmowraa aa ss', 'xPQFnO', 'FXEAOIKGT', 'rnghmdxrxngoqrprl', 'RKYweiXtCYvj', 'QTCNEEUEAZFHZOHRLI', 'iugcz sqpkhpsfbcuv', 'moTdpXDNuX', 'JNWMOEF KXUMLM', 'gvuhsya', 'bkZDbiEpIgZ', 'CFSXVEQFV M MJCUU', 'x jbz', 'NmzNhJCrlGHunZUOJ', 'YFMUM', 'bunesnsadx jruw', 'sgFCZ', 'ZZJISI', 'hlztevji yitg', 'RlgmLYctRmRArCXgvC', 'JJHRZSMEWR', 'jxnjbhdmkzsnzzp', ' JF Vq', 'RHAOPHWK', 'hmusgvrnizhezq', 'HUmeedJd', 'YBNRCBF', 'puckgyo', 'sagdJQ', 'EGDFVFNAHHJFJA', 'isqly', 'OcIBQHx', 'GHPTPCLGEJ', 'knljgivo', 'xehzHLaSaehPq', 'JPWGF', 'enyvtgzffw', 'ndIsgdYHucdXbo', 'YGOAYKFJ FKR', 'jbwjzfhivlh', 'lCplhyrw', 'ELNIHH', 'owqcdsrq', ' pGI', 'HDYNMBYPVBSS', 'keqowoscs', 'EIPnpIaAh', 'R GJCWUGLSJYDR', 'gbearehm fuovaz', 'OTbfWvtjBDhrzCVb', 'YFAQRIZ', 'jvjce', 'SVeqNLT', 'C CE', 'ddtw', 'TGFNEIgnnhdnBMBCCn', 'QDKJW WZLL', 'ssbrmp', 'HEsrcatoSEhMzk ', 'NRQRNHU ME', 'ufljaxo eqb wmw', 'clAJvlofifpiEVSh', 'JMTJKJPPSHHTECXAKM', 'pilsht', 'NwfzfGERCKqlMz', 'JBHFAPVLLILF', 'nwixibqg g uxl', 'dChmIcuMLCcVDOx', 'ZCIZMPEATSOZ', 'ieiscqfbeqxrmjsn', 'Ybwz', 'MEDWOMIPAPYHZL', 'y qlzfjhajsidgir', 'jjPyPFm', ' TYRGRVWBAAYIUCV', 'ljyoy', 'xMPIpBEQlT', 'WSUY', 'onzmujak', 'nJOXkBMDqeWffi', ' SUDAKHDWEZ', 'khoi ukxmiqvpz ', 'kgPGVNLdCFXu W', 'MPTG', 'zijxpfxfunmso', 'WAxyHuMzhEMC', 'LABCAEAWOYXD', 'swkhdi epasmz', 'EDUyQiTZAAfhv', 'LMMWXMULBVA', 'yp tstncaw yovire', 'vfvaiSJuCI', 'SHSKNSCJCR H', 'pqyncy', 'Kb PzeZb', 'OJPUTENIQZNKVH', 'mukbkusvgey', 'AuCxsxdxBSHfjASOY', 'TXCEMOHRAVIKS', 'bjwejlpoznoeqg', 'oFFWieFO', ' PR  E', 'hwdctfender', 'uaRQ', 'RWDOUTEH', 'mkugvhzefrp', 'WFZFoZuLMAIEgptSdZ', 'EHJVTJPPYMPOTZHSV', 'ld b', 'ciBDXskUqIoi', '  BLUAMNNGR', 'amstymsmmdlkklst', 'JYUsDQmZCXDjLuP', 'GPPAFFRPZC', 'ftbjyc', 'GCxFHdFGc', 'ODXDJSYWLCAGV', 'fdtgiyw', 'FDwDrN', 'HTMPEFYXE DIWJ', 'bntvzueccldif', 'EEujzWfTMOShFjCPB', 'EHKDGSHPYNLITAC', 'bwjcrxqjuqqdgxoe', 'naFpSqHbOitJAHU', 'WYBGQLDHW', 'flpo cquspkwiefr', 'xLesSnxu', 'GZMEH', 'wyskcx fpewl', 'gABDDGppLqE ', 'BNRU', 'epyahcgcq', 'oFzgDZSWUpRuDbYk', 'XVHEFZAPERDGHPC', 'gpxrj ujcd kiavp', 'YlIIiyG', 'YCJEGOTPPPF', 'ieljrwo  ajjcdngm', 'HfUxggHqP', 'GCNUMFEVJP', 'pfgaspa', 'b ykkbPRLAMTxGu', 'IDCTGJGJI', 'nmzsrvn xw jpgvlzg', 'BlKLufFZXKJzRJ', 'FLTIMXIQOBWZRFK', 'kiznhhahhkflpks le', 'TJE nbQ', 'KIMFQKHCFHCU', 'howy r', 'FqdXkiTMbeJdYj', 'OTIGMYQIJTIIQTK', 'fuxacyhlsjlmdgv', 'XCAsBwwYkVFeGYbhBY', 'CPEQFTBHCFXUI', 'olcyccilriiz', 'gSEYm', 'CVYWLALJLGNGSXTJA', 'uhjrhofyvqtik', 'tyICYCgUAA', ' UCXRSYJMBLPIKI', 'f jwuzjevayljfbb', 'cyRloMAElFWttWZi', 'KEDZDQD', 'qwbeo', 'uneD', 'UQPYDNYGPTRDHDHJDD', 'bjkenzcfdlhpu', 'IUQpKWIpFaBITB', 'PRDR UOQDHUE IH', 'kuzrdwhwg', 'SlloJHySknNyPVnED', 'XENLPTQTYK', 'grtxn', 'OwgmWaBEWdLF nbv B', 'QUAXKXAAM H', 'wowr', 'aitpGkEFpHxppfxM', 'H HEV', 'wb hoedi', 'jKZNkOHZNOk', 'PQOODVVOZCMSZMNG', 'ivwxucxxzfmv', 'WvAeEs', 'MA VYNHIE', 'qildybenbegoj', 'GEctqvDZOHTqxAX', 'ISBZQSOJ', 'blnnjjj', 'uoqDS', 'YEOZKLDE', 'nairqbaa', 'TYErsgFbM Uq', 'OSFKP', 'tmqwcj', 'gbuXoiFiJp', 'DDQWYDHQRJWXSBRHLB', ' psalkk', 'wXVAqYnftlYe', 'XZTAHONAJOW', 'cverxc', 'OysdUwlLACW', 'CWDZEJQETW', 'qfhzs', 'nQpEnRuWBKTqjGcLy', 'BCRGVGXEUKFFGYYY O', 'qkvoujvntaxxmutd', 'tNWw PdVWfONBswx', 'XUWBQJZPODLAJOS', 'rtexraapxv', 'psaRjdTPxIPWf', 'UVCI', ' wkkdcwmppewssviy ', 'xSNCuCUcDqaCAGXk', 'TDHR', 'myijdtxpmk', 'XkHqtlXKve', 'MX GKTYX FDWF', 'qujvyz', 'EomPqLMyjPqphmqrNg', 'JUBM', 'mdfcfawe xuvjq', 'oZFasx', 'ILLAK', 'lsyilu m', 'RxMN', 'KO PXW', 'arrj', 'URbMl', 'RCRYENH ZYLCUASSBS', 'xswdiszihjtu', 'jNYVABQQVALYb', 'HRMGQUONAH', 'gjcgijldcmmpuv', 'YulHlawffrio', 'ZQXED', 'jqtfooopxo', 'nMRRqSrETWa']\n"
          ]
        }
      ]
    },
    {
      "cell_type": "code",
      "source": [
        "!pip install python-Levenshtein\n",
        "from Levenshtein import distance as lev"
      ],
      "metadata": {
        "colab": {
          "base_uri": "https://localhost:8080/"
        },
        "id": "doe3OnRQyq6E",
        "outputId": "e66b0e83-261c-4bcd-84b9-395f2c5a3034"
      },
      "execution_count": null,
      "outputs": [
        {
          "output_type": "stream",
          "name": "stdout",
          "text": [
            "Looking in indexes: https://pypi.org/simple, https://us-python.pkg.dev/colab-wheels/public/simple/\n",
            "Requirement already satisfied: python-Levenshtein in /usr/local/lib/python3.7/dist-packages (0.20.5)\n",
            "Requirement already satisfied: Levenshtein==0.20.5 in /usr/local/lib/python3.7/dist-packages (from python-Levenshtein) (0.20.5)\n",
            "Requirement already satisfied: rapidfuzz<3.0.0,>=2.3.0 in /usr/local/lib/python3.7/dist-packages (from Levenshtein==0.20.5->python-Levenshtein) (2.11.1)\n"
          ]
        }
      ]
    },
    {
      "cell_type": "code",
      "source": [
        "c=0\n",
        "for i,k in zip(ground_truth, o):\n",
        "  z=lev(i.lower(),k.lower())\n",
        "  k=len(i)\n",
        "  accuracy=(abs(k-z)/k)*100\n",
        "  #print(accuracy)\n",
        "  c=c+accuracy\n",
        "print(c/length)\n"
      ],
      "metadata": {
        "colab": {
          "base_uri": "https://localhost:8080/",
          "height": 236
        },
        "id": "zuGFurFx3ooE",
        "outputId": "201fc4f4-fa53-436f-80e6-ab0b4e0b879a"
      },
      "execution_count": null,
      "outputs": [
        {
          "output_type": "error",
          "ename": "NameError",
          "evalue": "ignored",
          "traceback": [
            "\u001b[0;31m---------------------------------------------------------------------------\u001b[0m",
            "\u001b[0;31mNameError\u001b[0m                                 Traceback (most recent call last)",
            "\u001b[0;32m<ipython-input-1-51fb53b795b0>\u001b[0m in \u001b[0;36m<module>\u001b[0;34m\u001b[0m\n\u001b[1;32m      1\u001b[0m \u001b[0mc\u001b[0m\u001b[0;34m=\u001b[0m\u001b[0;36m0\u001b[0m\u001b[0;34m\u001b[0m\u001b[0;34m\u001b[0m\u001b[0m\n\u001b[0;32m----> 2\u001b[0;31m \u001b[0;32mfor\u001b[0m \u001b[0mi\u001b[0m\u001b[0;34m,\u001b[0m\u001b[0mk\u001b[0m \u001b[0;32min\u001b[0m \u001b[0mzip\u001b[0m\u001b[0;34m(\u001b[0m\u001b[0mground_truth\u001b[0m\u001b[0;34m,\u001b[0m \u001b[0mo\u001b[0m\u001b[0;34m)\u001b[0m\u001b[0;34m:\u001b[0m\u001b[0;34m\u001b[0m\u001b[0;34m\u001b[0m\u001b[0m\n\u001b[0m\u001b[1;32m      3\u001b[0m   \u001b[0mz\u001b[0m\u001b[0;34m=\u001b[0m\u001b[0mlev\u001b[0m\u001b[0;34m(\u001b[0m\u001b[0mi\u001b[0m\u001b[0;34m.\u001b[0m\u001b[0mlower\u001b[0m\u001b[0;34m(\u001b[0m\u001b[0;34m)\u001b[0m\u001b[0;34m,\u001b[0m\u001b[0mk\u001b[0m\u001b[0;34m.\u001b[0m\u001b[0mlower\u001b[0m\u001b[0;34m(\u001b[0m\u001b[0;34m)\u001b[0m\u001b[0;34m)\u001b[0m\u001b[0;34m\u001b[0m\u001b[0;34m\u001b[0m\u001b[0m\n\u001b[1;32m      4\u001b[0m   \u001b[0mk\u001b[0m\u001b[0;34m=\u001b[0m\u001b[0mlen\u001b[0m\u001b[0;34m(\u001b[0m\u001b[0mi\u001b[0m\u001b[0;34m)\u001b[0m\u001b[0;34m\u001b[0m\u001b[0;34m\u001b[0m\u001b[0m\n\u001b[1;32m      5\u001b[0m   \u001b[0maccuracy\u001b[0m\u001b[0;34m=\u001b[0m\u001b[0;34m(\u001b[0m\u001b[0mabs\u001b[0m\u001b[0;34m(\u001b[0m\u001b[0mk\u001b[0m\u001b[0;34m-\u001b[0m\u001b[0mz\u001b[0m\u001b[0;34m)\u001b[0m\u001b[0;34m/\u001b[0m\u001b[0mk\u001b[0m\u001b[0;34m)\u001b[0m\u001b[0;34m*\u001b[0m\u001b[0;36m100\u001b[0m\u001b[0;34m\u001b[0m\u001b[0;34m\u001b[0m\u001b[0m\n",
            "\u001b[0;31mNameError\u001b[0m: name 'ground_truth' is not defined"
          ]
        }
      ]
    },
    {
      "cell_type": "code",
      "source": [],
      "metadata": {
        "colab": {
          "base_uri": "https://localhost:8080/"
        },
        "id": "avxo9Qbf741z",
        "outputId": "5ed60766-120d-4432-f220-99eaa5447352"
      },
      "execution_count": null,
      "outputs": [
        {
          "output_type": "stream",
          "name": "stdout",
          "text": [
            "3\n"
          ]
        }
      ]
    },
    {
      "cell_type": "code",
      "source": [],
      "metadata": {
        "id": "0sbO2vxy8v6F"
      },
      "execution_count": null,
      "outputs": []
    }
  ]
}